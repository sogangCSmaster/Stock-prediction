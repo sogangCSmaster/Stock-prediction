{
 "cells": [
  {
   "cell_type": "code",
   "execution_count": 77,
   "metadata": {
    "collapsed": true
   },
   "outputs": [],
   "source": [
    "import pandas as pd\n",
    "import numpy as np\n",
    "import matplotlib.pyplot as plt"
   ]
  },
  {
   "cell_type": "code",
   "execution_count": 78,
   "metadata": {
    "scrolled": true
   },
   "outputs": [
    {
     "data": {
      "text/html": [
       "<div>\n",
       "<style>\n",
       "    .dataframe thead tr:only-child th {\n",
       "        text-align: right;\n",
       "    }\n",
       "\n",
       "    .dataframe thead th {\n",
       "        text-align: left;\n",
       "    }\n",
       "\n",
       "    .dataframe tbody tr th {\n",
       "        vertical-align: top;\n",
       "    }\n",
       "</style>\n",
       "<table border=\"1\" class=\"dataframe\">\n",
       "  <thead>\n",
       "    <tr style=\"text-align: right;\">\n",
       "      <th></th>\n",
       "      <th>시가</th>\n",
       "      <th>고가</th>\n",
       "      <th>저가</th>\n",
       "      <th>종가</th>\n",
       "      <th>다음날</th>\n",
       "      <th>Volume Osc</th>\n",
       "      <th>MACD Oscillator</th>\n",
       "      <th>심리도</th>\n",
       "      <th>시가-종가</th>\n",
       "      <th>고가-종가</th>\n",
       "      <th>저가-종가</th>\n",
       "      <th>다음날상승</th>\n",
       "    </tr>\n",
       "  </thead>\n",
       "  <tbody>\n",
       "    <tr>\n",
       "      <th>0</th>\n",
       "      <td>251000</td>\n",
       "      <td>252000</td>\n",
       "      <td>245500</td>\n",
       "      <td>248000</td>\n",
       "      <td>250000</td>\n",
       "      <td>6.54</td>\n",
       "      <td>786.60</td>\n",
       "      <td>0.5</td>\n",
       "      <td>3000</td>\n",
       "      <td>4000</td>\n",
       "      <td>-2500</td>\n",
       "      <td>0.800000</td>\n",
       "    </tr>\n",
       "    <tr>\n",
       "      <th>1</th>\n",
       "      <td>250000</td>\n",
       "      <td>252000</td>\n",
       "      <td>246500</td>\n",
       "      <td>250000</td>\n",
       "      <td>248000</td>\n",
       "      <td>4.35</td>\n",
       "      <td>771.02</td>\n",
       "      <td>0.5</td>\n",
       "      <td>0</td>\n",
       "      <td>2000</td>\n",
       "      <td>-3500</td>\n",
       "      <td>-0.806452</td>\n",
       "    </tr>\n",
       "    <tr>\n",
       "      <th>2</th>\n",
       "      <td>250000</td>\n",
       "      <td>252000</td>\n",
       "      <td>246000</td>\n",
       "      <td>248000</td>\n",
       "      <td>248000</td>\n",
       "      <td>3.60</td>\n",
       "      <td>545.41</td>\n",
       "      <td>0.4</td>\n",
       "      <td>2000</td>\n",
       "      <td>4000</td>\n",
       "      <td>-2000</td>\n",
       "      <td>0.000000</td>\n",
       "    </tr>\n",
       "    <tr>\n",
       "      <th>3</th>\n",
       "      <td>246500</td>\n",
       "      <td>251000</td>\n",
       "      <td>246000</td>\n",
       "      <td>248000</td>\n",
       "      <td>248500</td>\n",
       "      <td>4.44</td>\n",
       "      <td>326.36</td>\n",
       "      <td>0.4</td>\n",
       "      <td>-1500</td>\n",
       "      <td>3000</td>\n",
       "      <td>-2000</td>\n",
       "      <td>0.201207</td>\n",
       "    </tr>\n",
       "    <tr>\n",
       "      <th>4</th>\n",
       "      <td>248000</td>\n",
       "      <td>249500</td>\n",
       "      <td>246000</td>\n",
       "      <td>248500</td>\n",
       "      <td>255500</td>\n",
       "      <td>-1.59</td>\n",
       "      <td>154.09</td>\n",
       "      <td>0.4</td>\n",
       "      <td>-500</td>\n",
       "      <td>1000</td>\n",
       "      <td>-2500</td>\n",
       "      <td>2.739726</td>\n",
       "    </tr>\n",
       "  </tbody>\n",
       "</table>\n",
       "</div>"
      ],
      "text/plain": [
       "       시가      고가      저가      종가     다음날  Volume Osc  MACD Oscillator  심리도  \\\n",
       "0  251000  252000  245500  248000  250000        6.54           786.60  0.5   \n",
       "1  250000  252000  246500  250000  248000        4.35           771.02  0.5   \n",
       "2  250000  252000  246000  248000  248000        3.60           545.41  0.4   \n",
       "3  246500  251000  246000  248000  248500        4.44           326.36  0.4   \n",
       "4  248000  249500  246000  248500  255500       -1.59           154.09  0.4   \n",
       "\n",
       "   시가-종가  고가-종가  저가-종가     다음날상승  \n",
       "0   3000   4000  -2500  0.800000  \n",
       "1      0   2000  -3500 -0.806452  \n",
       "2   2000   4000  -2000  0.000000  \n",
       "3  -1500   3000  -2000  0.201207  \n",
       "4   -500   1000  -2500  2.739726  "
      ]
     },
     "execution_count": 78,
     "metadata": {},
     "output_type": "execute_result"
    }
   ],
   "source": [
    "data = pd.read_excel('h-car.xlsx')\n",
    "\n",
    "data.head(5)"
   ]
  },
  {
   "cell_type": "code",
   "execution_count": 79,
   "metadata": {
    "collapsed": true
   },
   "outputs": [],
   "source": [
    "k=len(data)\n",
    "i=0"
   ]
  },
  {
   "cell_type": "code",
   "execution_count": 81,
   "metadata": {},
   "outputs": [],
   "source": [
    "tempdata=[0]*k\n",
    "for i in range(k):\n",
    "    tempdata[i]=data.loc[i][5]"
   ]
  },
  {
   "cell_type": "code",
   "execution_count": 62,
   "metadata": {},
   "outputs": [],
   "source": [
    "for i in range(k):\n",
    "    if (tempdata[i]< -20):\n",
    "        tempdata[i] = 1\n",
    "    elif (tempdata[i]< -15 and tempdata[i]>= -20):\n",
    "        tempdata[i] = 2\n",
    "    elif (tempdata[i]< -10 and tempdata[i]>= -15):\n",
    "        tempdata[i] = 3\n",
    "    elif (tempdata[i]< -5 and tempdata[i]>= -10):\n",
    "        tempdata[i] = 4\n",
    "    elif (tempdata[i]< 0 and tempdata[i]>= -5):\n",
    "        tempdata[i] = 5\n",
    "    elif (tempdata[i]< 5 and tempdata[i]>= 0):\n",
    "        tempdata[i] = 6\n",
    "    elif (tempdata[i]< 10 and tempdata[i]>= 5):\n",
    "        tempdata[i] = 7 \n",
    "    elif (tempdata[i]< 15 and tempdata[i]>= 10):\n",
    "        tempdata[i] = 8\n",
    "    elif (tempdata[i]< 20 and tempdata[i]>= 15):\n",
    "        tempdata[i] = 9\n",
    "    else:\n",
    "        tempdata[i] = 10 \n",
    "        "
   ]
  },
  {
   "cell_type": "code",
   "execution_count": 63,
   "metadata": {},
   "outputs": [],
   "source": [
    "for i in range(k):\n",
    "    data.loc[i,'Volume Osc'] = tempdata[i]"
   ]
  },
  {
   "cell_type": "code",
   "execution_count": 82,
   "metadata": {},
   "outputs": [],
   "source": [
    "for i in range(k):\n",
    "    tempdata[i]=data.loc[i][6]\n",
    "for i in range(k):\n",
    "    if (tempdata[i]< -2500):\n",
    "        tempdata[i] = 1\n",
    "    elif (tempdata[i]< -2500 and tempdata[i]>= -2000):\n",
    "        tempdata[i] = 2\n",
    "    elif (tempdata[i]< -1000 and tempdata[i]>= -1500):\n",
    "        tempdata[i] = 3\n",
    "    elif (tempdata[i]< -500 and tempdata[i]>= -1000):\n",
    "        tempdata[i] = 4\n",
    "    elif (tempdata[i]< 0 and tempdata[i]>= -500):\n",
    "        tempdata[i] = 5\n",
    "    elif (tempdata[i]< 500 and tempdata[i]>= 0):\n",
    "        tempdata[i] = 6\n",
    "    elif (tempdata[i]< 1000 and tempdata[i]>= 500):\n",
    "        tempdata[i] = 7 \n",
    "    elif (tempdata[i]< 1500 and tempdata[i]>= 1000):\n",
    "        tempdata[i] = 8\n",
    "    elif (tempdata[i]< 2000 and tempdata[i]>= 1500):\n",
    "        tempdata[i] = 9\n",
    "    else:\n",
    "        tempdata[i] = 10 \n",
    "for i in range(k):\n",
    "    data.loc[i,'MACD Oscillator'] = tempdata[i]"
   ]
  },
  {
   "cell_type": "code",
   "execution_count": 83,
   "metadata": {},
   "outputs": [],
   "source": [
    "for i in range(k):\n",
    "    tempdata[i]=data.loc[i][11]\n",
    "for i in range(k):\n",
    "    if (tempdata[i]< -5):\n",
    "        tempdata[i] = 1\n",
    "    elif (tempdata[i]< -4 and tempdata[i]>= -5):\n",
    "        tempdata[i] = 2\n",
    "    elif (tempdata[i]< -3 and tempdata[i]>= -4):\n",
    "        tempdata[i] = 3\n",
    "    elif (tempdata[i]< -2 and tempdata[i]>= -3):\n",
    "        tempdata[i] = 4\n",
    "    elif (tempdata[i]< -1 and tempdata[i]>= -2):\n",
    "        tempdata[i] = 5\n",
    "    elif (tempdata[i]< 0 and tempdata[i]>= -1):\n",
    "        tempdata[i] = 6\n",
    "    elif (tempdata[i]< 1 and tempdata[i]>= 0):\n",
    "        tempdata[i] = 7 \n",
    "    elif (tempdata[i]< 2 and tempdata[i]>= 1):\n",
    "        tempdata[i] = 8\n",
    "    elif (tempdata[i]< 3 and tempdata[i]>= 2):\n",
    "        tempdata[i] = 9\n",
    "    elif (tempdata[i]< 4 and tempdata[i]>= 3):\n",
    "        tempdata[i] = 10 \n",
    "    elif (tempdata[i]< 5 and tempdata[i]>= 4):\n",
    "        tempdata[i] = 11 \n",
    "    else:\n",
    "        tempdata[i] = 12 \n",
    "for i in range(k):\n",
    "    data.loc[i,'다음날상승'] = tempdata[i]"
   ]
  },
  {
   "cell_type": "code",
   "execution_count": 89,
   "metadata": {},
   "outputs": [
    {
     "name": "stdout",
     "output_type": "stream",
     "text": [
      "* features:\n",
      "['다음날', 'Volume Osc', 'MACD Oscillator', '심리도', '시가-종가', '고가-종가', '저가-종가']\n"
     ]
    },
    {
     "data": {
      "text/plain": [
       "['다음날상승']"
      ]
     },
     "execution_count": 89,
     "metadata": {},
     "output_type": "execute_result"
    }
   ],
   "source": [
    "features = list(data.columns[4:11])\n",
    "target = list(data.columns[11:12])\n",
    "print(\"* features:\", features, sep='\\n')\n",
    "\n",
    "target"
   ]
  },
  {
   "cell_type": "code",
   "execution_count": 90,
   "metadata": {},
   "outputs": [],
   "source": [
    "from sklearn.cross_validation import train_test_split\n",
    "from sklearn.tree import DecisionTreeClassifier\n",
    "from sklearn.metrics import accuracy_score\n",
    "from sklearn import tree"
   ]
  },
  {
   "cell_type": "code",
   "execution_count": 91,
   "metadata": {
    "collapsed": true
   },
   "outputs": [],
   "source": [
    "X = data.loc[:,['시가', '고가', '저가', '종가', 'Volume Osc', 'MACD Oscillator', '심리도', '다음날', '시가-종가', '고가-종가', '저가-종가', '다음날상승']]\n",
    "Y = data.loc[:,['다음날상승']]"
   ]
  },
  {
   "cell_type": "code",
   "execution_count": 92,
   "metadata": {
    "collapsed": true
   },
   "outputs": [],
   "source": [
    "X_train, X_test, y_train, y_test = train_test_split( X, Y, test_size = 0.3, random_state = 100)"
   ]
  },
  {
   "cell_type": "code",
   "execution_count": 93,
   "metadata": {},
   "outputs": [
    {
     "data": {
      "text/plain": [
       "DecisionTreeClassifier(class_weight=None, criterion='gini', max_depth=None,\n",
       "            max_features=None, max_leaf_nodes=None,\n",
       "            min_impurity_split=1e-07, min_samples_leaf=1,\n",
       "            min_samples_split=2, min_weight_fraction_leaf=0.0,\n",
       "            presort=False, random_state=None, splitter='best')"
      ]
     },
     "execution_count": 93,
     "metadata": {},
     "output_type": "execute_result"
    }
   ],
   "source": [
    "clf = tree.DecisionTreeClassifier()\n",
    "clf.fit(X_train, y_train)"
   ]
  },
  {
   "cell_type": "code",
   "execution_count": 94,
   "metadata": {},
   "outputs": [
    {
     "data": {
      "text/plain": [
       "DecisionTreeClassifier(class_weight=None, criterion='entropy', max_depth=3,\n",
       "            max_features=None, max_leaf_nodes=None,\n",
       "            min_impurity_split=1e-07, min_samples_leaf=5,\n",
       "            min_samples_split=2, min_weight_fraction_leaf=0.0,\n",
       "            presort=False, random_state=100, splitter='best')"
      ]
     },
     "execution_count": 94,
     "metadata": {},
     "output_type": "execute_result"
    }
   ],
   "source": [
    "clf_entropy = DecisionTreeClassifier(criterion = \"entropy\",random_state = 100,max_depth=3, min_samples_leaf=5)\n",
    "clf_entropy.fit(X_train, y_train)"
   ]
  },
  {
   "cell_type": "code",
   "execution_count": 95,
   "metadata": {
    "collapsed": true
   },
   "outputs": [],
   "source": [
    "y_pred = clf.predict(X_test)\n",
    "y_pred_en = clf_entropy.predict(X_test)"
   ]
  },
  {
   "cell_type": "code",
   "execution_count": 96,
   "metadata": {},
   "outputs": [
    {
     "name": "stdout",
     "output_type": "stream",
     "text": [
      "주가 예측 정확도 :  100.0\n",
      "주가 예측 정확도2 :  91.0\n"
     ]
    }
   ],
   "source": [
    "print(\"주가 예측 정확도 : \", accuracy_score(y_test,y_pred)*100)\n",
    "print(\"주가 예측 정확도2 : \", accuracy_score(y_test,y_pred_en)*100)"
   ]
  },
  {
   "cell_type": "code",
   "execution_count": 107,
   "metadata": {},
   "outputs": [],
   "source": [
    "tree.export_graphviz(clf, out_file='tree.dot')\n",
    "\n",
    "\n",
    "import pydot \n",
    ">>> dot_data = StringIO() \n",
    ">>> tree.export_graphviz(clf, out_file=dot_data) \n",
    ">>> graph = pydot.graph_from_dot_data(dot_data.getvalue()) \n",
    ">>> graph.write_pdf(\"iris.pdf\") "
   ]
  }
 ],
 "metadata": {
  "kernelspec": {
   "display_name": "Python 3",
   "language": "python",
   "name": "python3"
  },
  "language_info": {
   "codemirror_mode": {
    "name": "ipython",
    "version": 3
   },
   "file_extension": ".py",
   "mimetype": "text/x-python",
   "name": "python",
   "nbconvert_exporter": "python",
   "pygments_lexer": "ipython3",
   "version": "3.5.3"
  }
 },
 "nbformat": 4,
 "nbformat_minor": 2
}
